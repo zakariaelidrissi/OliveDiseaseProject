{
  "nbformat": 4,
  "nbformat_minor": 0,
  "metadata": {
    "colab": {
      "name": "projet1_cl2_v4.ipynb",
      "provenance": [],
      "collapsed_sections": []
    },
    "kernelspec": {
      "name": "python3",
      "display_name": "Python 3"
    },
    "language_info": {
      "name": "python"
    },
    "accelerator": "GPU"
  },
  "cells": [
    {
      "cell_type": "markdown",
      "source": [
        "# ***1- Olive Detection - Classification 2***"
      ],
      "metadata": {
        "id": "O7aElq4hEj5g"
      }
    },
    {
      "cell_type": "code",
      "execution_count": 1,
      "metadata": {
        "colab": {
          "base_uri": "https://localhost:8080/"
        },
        "id": "bcATAyS9EYiP",
        "outputId": "0fdf09da-b38c-43f8-8e86-3571ad675ba0"
      },
      "outputs": [
        {
          "output_type": "stream",
          "name": "stdout",
          "text": [
            "Mounted at /content/drive\n"
          ]
        }
      ],
      "source": [
        "from google.colab import drive\n",
        "drive.mount('/content/drive')"
      ]
    },
    {
      "cell_type": "markdown",
      "source": [
        "***1-1. Import Required Libraries***"
      ],
      "metadata": {
        "id": "EkEqzTn5E9ex"
      }
    },
    {
      "cell_type": "code",
      "source": [
        "import os\n",
        "import cv2\n",
        "import glob\n",
        "import pandas as pd\n",
        "import numpy as np\n",
        "import tensorflow as tf\n",
        "import matplotlib.pyplot as plt\n",
        "from keras.layers import Dense, Convolution2D, MaxPool2D, Activation, Dropout, Flatten, Input, Add, ZeroPadding2D, BatchNormalization, Conv2D, AveragePooling2D\n",
        "from keras.layers import MaxPooling2D\n",
        "from keras.models import Sequential\n",
        "from keras.preprocessing import image\n",
        "from tensorflow.keras.optimizers import Adam\n",
        "from tensorflow.keras.models import Model\n",
        "from keras.callbacks import ReduceLROnPlateau\n",
        "from tensorflow.keras.applications.vgg19 import VGG19\n",
        "from keras.preprocessing.image import ImageDataGenerator"
      ],
      "metadata": {
        "id": "vbQ6TYMXE7cU"
      },
      "execution_count": 2,
      "outputs": []
    },
    {
      "cell_type": "markdown",
      "source": [
        "***1-2. Test/Train Data***"
      ],
      "metadata": {
        "id": "p4FCoa4HFSV5"
      }
    },
    {
      "cell_type": "code",
      "source": [
        "def get_files(directory):\n",
        "  if not os.path.exists(directory):\n",
        "    return 0\n",
        "  count = 0\n",
        "  # crawls inside folders\n",
        "  for current_path, dirs, files in os.walk(directory):\n",
        "    for dr in dirs:\n",
        "      count += len(glob.glob(os.path.join(current_path, dr+\"/*\")))\n",
        "  return count\n",
        "train_dir = \"/content/drive/MyDrive/OliveDataset/train\"\n",
        "test_dir  = \"/content/drive/MyDrive/OliveDataset/test\""
      ],
      "metadata": {
        "id": "-chfy0jQFN9j"
      },
      "execution_count": 3,
      "outputs": []
    },
    {
      "cell_type": "code",
      "source": [
        "from keras.utils.data_utils import get_file\n",
        "# train file image count\n",
        "train_samples = get_files(train_dir)\n",
        "# to get tags\n",
        "num_classes = len(glob.glob(train_dir+\"/*\"))\n",
        "# test file image count\n",
        "test_samples = get_files(test_dir)\n",
        "print(num_classes, \"Classes\")\n",
        "print(train_samples, \"Train images\")\n",
        "print(test_samples, \"Test images\")"
      ],
      "metadata": {
        "colab": {
          "base_uri": "https://localhost:8080/"
        },
        "id": "AasmCtgTFO01",
        "outputId": "aa2efc38-3c47-4b66-d8b9-59d8f782e052"
      },
      "execution_count": 4,
      "outputs": [
        {
          "output_type": "stream",
          "name": "stdout",
          "text": [
            "3 Classes\n",
            "2720 Train images\n",
            "714 Test images\n"
          ]
        }
      ]
    },
    {
      "cell_type": "markdown",
      "source": [
        "***1-3. ImageDataGenerator***"
      ],
      "metadata": {
        "id": "a72eaBjGFiEv"
      }
    },
    {
      "cell_type": "code",
      "source": [
        "train_datagen = ImageDataGenerator(\n",
        "    rescale= 1./255,\n",
        "    shear_range= 0.2,\n",
        "    zoom_range= 0.2,\n",
        "    horizontal_flip= True\n",
        ")\n",
        "test_datagen = ImageDataGenerator(\n",
        "    rescale= 1./255\n",
        ")"
      ],
      "metadata": {
        "id": "dVxwk2ERFOyG"
      },
      "execution_count": 5,
      "outputs": []
    },
    {
      "cell_type": "code",
      "source": [
        "input_shape = (224, 224, 3)\n",
        "train_generator = train_datagen.flow_from_directory(train_dir, target_size= (224, 224), batch_size= 32)\n",
        "test_generator = test_datagen.flow_from_directory(test_dir,shuffle= True, target_size= (224, 224), batch_size= 32)"
      ],
      "metadata": {
        "colab": {
          "base_uri": "https://localhost:8080/"
        },
        "id": "5SqtR7_4FOv9",
        "outputId": "94f2898f-d3e4-4ef7-bb6b-4b80a5cb6eaf"
      },
      "execution_count": 6,
      "outputs": [
        {
          "output_type": "stream",
          "name": "stdout",
          "text": [
            "Found 2720 images belonging to 3 classes.\n",
            "Found 714 images belonging to 3 classes.\n"
          ]
        }
      ]
    },
    {
      "cell_type": "markdown",
      "source": [
        "***1-4. VGG19 Model***"
      ],
      "metadata": {
        "id": "HCJR2j3SF52p"
      }
    },
    {
      "cell_type": "code",
      "source": [
        "def create_Base_model_from_VGG19():  \n",
        "    model_vgg19 = VGG19(\n",
        "        weights = \"imagenet\",# control point from which model is started\n",
        "        include_top=False, # to include/exclude the first 3 layers\n",
        "        input_shape = (224,224, 3)) # image size\n",
        "    # don't train existing weights \n",
        "    for layer in model_vgg19.layers:\n",
        "      layer.trainable = False\n",
        "    return model_vgg19 \n",
        "create_Base_model_from_VGG19().summary()"
      ],
      "metadata": {
        "colab": {
          "base_uri": "https://localhost:8080/"
        },
        "id": "mUhw9NqoFOtW",
        "outputId": "8a5bc26b-0600-433f-f2f1-74d08f662e66"
      },
      "execution_count": 7,
      "outputs": [
        {
          "output_type": "stream",
          "name": "stdout",
          "text": [
            "Downloading data from https://storage.googleapis.com/tensorflow/keras-applications/vgg19/vgg19_weights_tf_dim_ordering_tf_kernels_notop.h5\n",
            "80142336/80134624 [==============================] - 1s 0us/step\n",
            "80150528/80134624 [==============================] - 1s 0us/step\n",
            "Model: \"vgg19\"\n",
            "_________________________________________________________________\n",
            " Layer (type)                Output Shape              Param #   \n",
            "=================================================================\n",
            " input_1 (InputLayer)        [(None, 224, 224, 3)]     0         \n",
            "                                                                 \n",
            " block1_conv1 (Conv2D)       (None, 224, 224, 64)      1792      \n",
            "                                                                 \n",
            " block1_conv2 (Conv2D)       (None, 224, 224, 64)      36928     \n",
            "                                                                 \n",
            " block1_pool (MaxPooling2D)  (None, 112, 112, 64)      0         \n",
            "                                                                 \n",
            " block2_conv1 (Conv2D)       (None, 112, 112, 128)     73856     \n",
            "                                                                 \n",
            " block2_conv2 (Conv2D)       (None, 112, 112, 128)     147584    \n",
            "                                                                 \n",
            " block2_pool (MaxPooling2D)  (None, 56, 56, 128)       0         \n",
            "                                                                 \n",
            " block3_conv1 (Conv2D)       (None, 56, 56, 256)       295168    \n",
            "                                                                 \n",
            " block3_conv2 (Conv2D)       (None, 56, 56, 256)       590080    \n",
            "                                                                 \n",
            " block3_conv3 (Conv2D)       (None, 56, 56, 256)       590080    \n",
            "                                                                 \n",
            " block3_conv4 (Conv2D)       (None, 56, 56, 256)       590080    \n",
            "                                                                 \n",
            " block3_pool (MaxPooling2D)  (None, 28, 28, 256)       0         \n",
            "                                                                 \n",
            " block4_conv1 (Conv2D)       (None, 28, 28, 512)       1180160   \n",
            "                                                                 \n",
            " block4_conv2 (Conv2D)       (None, 28, 28, 512)       2359808   \n",
            "                                                                 \n",
            " block4_conv3 (Conv2D)       (None, 28, 28, 512)       2359808   \n",
            "                                                                 \n",
            " block4_conv4 (Conv2D)       (None, 28, 28, 512)       2359808   \n",
            "                                                                 \n",
            " block4_pool (MaxPooling2D)  (None, 14, 14, 512)       0         \n",
            "                                                                 \n",
            " block5_conv1 (Conv2D)       (None, 14, 14, 512)       2359808   \n",
            "                                                                 \n",
            " block5_conv2 (Conv2D)       (None, 14, 14, 512)       2359808   \n",
            "                                                                 \n",
            " block5_conv3 (Conv2D)       (None, 14, 14, 512)       2359808   \n",
            "                                                                 \n",
            " block5_conv4 (Conv2D)       (None, 14, 14, 512)       2359808   \n",
            "                                                                 \n",
            " block5_pool (MaxPooling2D)  (None, 7, 7, 512)         0         \n",
            "                                                                 \n",
            "=================================================================\n",
            "Total params: 20,024,384\n",
            "Trainable params: 0\n",
            "Non-trainable params: 20,024,384\n",
            "_________________________________________________________________\n"
          ]
        }
      ]
    },
    {
      "cell_type": "code",
      "source": [
        "def add_custom_layers_vgg19():\n",
        "    #Adding custom Layers \n",
        "    model_vgg19 = create_Base_model_from_VGG19()\n",
        "    x = model_vgg19.output\n",
        "    x = tf.keras.layers.Flatten()(x)\n",
        "    x = tf.keras.layers.Dense(256, activation=\"relu\")(x)\n",
        "    predictions = tf.keras.layers.Dense(num_classes, activation=\"softmax\")(x)   \n",
        "    # creating the final model \n",
        "    final_model = tf.keras.models.Model(\n",
        "        inputs = model_vgg19.input, \n",
        "        outputs = predictions)\n",
        "     \n",
        "    final_model.compile(loss='categorical_crossentropy', optimizer='adam', metrics=['accuracy'])  \n",
        "    return final_model\n",
        "\n",
        "add_custom_layers_vgg19().summary()"
      ],
      "metadata": {
        "colab": {
          "base_uri": "https://localhost:8080/"
        },
        "id": "JrZ1hPnlFOq9",
        "outputId": "2c64eda7-a75c-454b-97bd-a562d1ccac00"
      },
      "execution_count": 8,
      "outputs": [
        {
          "output_type": "stream",
          "name": "stdout",
          "text": [
            "Model: \"model\"\n",
            "_________________________________________________________________\n",
            " Layer (type)                Output Shape              Param #   \n",
            "=================================================================\n",
            " input_2 (InputLayer)        [(None, 224, 224, 3)]     0         \n",
            "                                                                 \n",
            " block1_conv1 (Conv2D)       (None, 224, 224, 64)      1792      \n",
            "                                                                 \n",
            " block1_conv2 (Conv2D)       (None, 224, 224, 64)      36928     \n",
            "                                                                 \n",
            " block1_pool (MaxPooling2D)  (None, 112, 112, 64)      0         \n",
            "                                                                 \n",
            " block2_conv1 (Conv2D)       (None, 112, 112, 128)     73856     \n",
            "                                                                 \n",
            " block2_conv2 (Conv2D)       (None, 112, 112, 128)     147584    \n",
            "                                                                 \n",
            " block2_pool (MaxPooling2D)  (None, 56, 56, 128)       0         \n",
            "                                                                 \n",
            " block3_conv1 (Conv2D)       (None, 56, 56, 256)       295168    \n",
            "                                                                 \n",
            " block3_conv2 (Conv2D)       (None, 56, 56, 256)       590080    \n",
            "                                                                 \n",
            " block3_conv3 (Conv2D)       (None, 56, 56, 256)       590080    \n",
            "                                                                 \n",
            " block3_conv4 (Conv2D)       (None, 56, 56, 256)       590080    \n",
            "                                                                 \n",
            " block3_pool (MaxPooling2D)  (None, 28, 28, 256)       0         \n",
            "                                                                 \n",
            " block4_conv1 (Conv2D)       (None, 28, 28, 512)       1180160   \n",
            "                                                                 \n",
            " block4_conv2 (Conv2D)       (None, 28, 28, 512)       2359808   \n",
            "                                                                 \n",
            " block4_conv3 (Conv2D)       (None, 28, 28, 512)       2359808   \n",
            "                                                                 \n",
            " block4_conv4 (Conv2D)       (None, 28, 28, 512)       2359808   \n",
            "                                                                 \n",
            " block4_pool (MaxPooling2D)  (None, 14, 14, 512)       0         \n",
            "                                                                 \n",
            " block5_conv1 (Conv2D)       (None, 14, 14, 512)       2359808   \n",
            "                                                                 \n",
            " block5_conv2 (Conv2D)       (None, 14, 14, 512)       2359808   \n",
            "                                                                 \n",
            " block5_conv3 (Conv2D)       (None, 14, 14, 512)       2359808   \n",
            "                                                                 \n",
            " block5_conv4 (Conv2D)       (None, 14, 14, 512)       2359808   \n",
            "                                                                 \n",
            " block5_pool (MaxPooling2D)  (None, 7, 7, 512)         0         \n",
            "                                                                 \n",
            " flatten (Flatten)           (None, 25088)             0         \n",
            "                                                                 \n",
            " dense (Dense)               (None, 256)               6422784   \n",
            "                                                                 \n",
            " dense_1 (Dense)             (None, 3)                 771       \n",
            "                                                                 \n",
            "=================================================================\n",
            "Total params: 26,447,939\n",
            "Trainable params: 6,423,555\n",
            "Non-trainable params: 20,024,384\n",
            "_________________________________________________________________\n"
          ]
        }
      ]
    },
    {
      "cell_type": "code",
      "source": [
        "validation_generator = train_datagen.flow_from_directory(\n",
        "                       test_dir,\n",
        "                       target_size=(224, 224),\n",
        "                       batch_size=32)"
      ],
      "metadata": {
        "colab": {
          "base_uri": "https://localhost:8080/"
        },
        "id": "5k8Id2AdFOoe",
        "outputId": "388dd5c2-caef-444c-d7f7-628682ccc625"
      },
      "execution_count": 9,
      "outputs": [
        {
          "output_type": "stream",
          "name": "stdout",
          "text": [
            "Found 714 images belonging to 3 classes.\n"
          ]
        }
      ]
    },
    {
      "cell_type": "code",
      "source": [
        "model_from_vgg19 = add_custom_layers_vgg19()\n",
        "history3 = model_from_vgg19.fit(train_generator,\n",
        "                      steps_per_epoch=None,\n",
        "                      epochs=6,\n",
        "                      validation_data=validation_generator,\n",
        "                      validation_steps=None,\n",
        "                      verbose=1,\n",
        "                      callbacks=[ReduceLROnPlateau(monitor='val_loss', factor=0.3,patience=3, min_lr=0.000001)],\n",
        "                      use_multiprocessing=False,\n",
        "                      shuffle=True)"
      ],
      "metadata": {
        "colab": {
          "base_uri": "https://localhost:8080/"
        },
        "id": "Fdh5xd4wFOly",
        "outputId": "78ec54b6-a3a7-4156-d5f9-1b62f995b901"
      },
      "execution_count": 11,
      "outputs": [
        {
          "output_type": "stream",
          "name": "stdout",
          "text": [
            "Epoch 1/6\n",
            "85/85 [==============================] - 954s 11s/step - loss: 1.2750 - accuracy: 0.5934 - val_loss: 0.7554 - val_accuracy: 0.6401 - lr: 0.0010\n",
            "Epoch 2/6\n",
            "85/85 [==============================] - 81s 955ms/step - loss: 0.5755 - accuracy: 0.7676 - val_loss: 0.6373 - val_accuracy: 0.7311 - lr: 0.0010\n",
            "Epoch 3/6\n",
            "85/85 [==============================] - 81s 955ms/step - loss: 0.4553 - accuracy: 0.8210 - val_loss: 0.6775 - val_accuracy: 0.7059 - lr: 0.0010\n",
            "Epoch 4/6\n",
            "85/85 [==============================] - 83s 978ms/step - loss: 0.4434 - accuracy: 0.8184 - val_loss: 0.5653 - val_accuracy: 0.7773 - lr: 0.0010\n",
            "Epoch 5/6\n",
            "85/85 [==============================] - 84s 992ms/step - loss: 0.4109 - accuracy: 0.8371 - val_loss: 1.1638 - val_accuracy: 0.5868 - lr: 0.0010\n",
            "Epoch 6/6\n",
            "85/85 [==============================] - 84s 986ms/step - loss: 0.3944 - accuracy: 0.8386 - val_loss: 0.5335 - val_accuracy: 0.8095 - lr: 0.0010\n"
          ]
        }
      ]
    },
    {
      "cell_type": "code",
      "source": [
        "model_from_vgg19.save('/content/drive/MyDrive/Colab Notebooks/models_olive/model_cl2_vgg19.h5')"
      ],
      "metadata": {
        "id": "lrFcs4UmFOjZ"
      },
      "execution_count": 12,
      "outputs": []
    },
    {
      "cell_type": "code",
      "source": [
        "print(\"[INFO] Calculating model accuracy\")\n",
        "scores = model_from_vgg19.evaluate(validation_generator)\n",
        "print(f\"Test Accuracy: {scores[1]*100}\")"
      ],
      "metadata": {
        "colab": {
          "base_uri": "https://localhost:8080/"
        },
        "id": "_LwSTEPSHG-n",
        "outputId": "6ecb78f0-4275-4fa0-fd67-9f1a428c1fcb"
      },
      "execution_count": 13,
      "outputs": [
        {
          "output_type": "stream",
          "name": "stdout",
          "text": [
            "[INFO] Calculating model accuracy\n",
            "23/23 [==============================] - 17s 732ms/step - loss: 0.5249 - accuracy: 0.7969\n",
            "Test Accuracy: 79.69187498092651\n"
          ]
        }
      ]
    },
    {
      "cell_type": "code",
      "source": [
        "results = model_from_vgg19.evaluate(test_generator, verbose=1)\n",
        "\n",
        "print(\"Test Loss: {:.5f}\".format(results[0]))\n",
        "print(\"Test Accuracy: {:.2f}%\".format(results[1] * 100))"
      ],
      "metadata": {
        "colab": {
          "base_uri": "https://localhost:8080/"
        },
        "id": "DMqMG7x5HJvm",
        "outputId": "24cefb53-ba21-40d6-a144-7f3997d01ca6"
      },
      "execution_count": 14,
      "outputs": [
        {
          "output_type": "stream",
          "name": "stdout",
          "text": [
            "23/23 [==============================] - 9s 382ms/step - loss: 0.5139 - accuracy: 0.7983\n",
            "Test Loss: 0.51386\n",
            "Test Accuracy: 79.83%\n"
          ]
        }
      ]
    },
    {
      "cell_type": "code",
      "source": [
        "# Predict the label of the test_gen\n",
        "pred = model_from_vgg19.predict(test_generator,verbose=1)\n",
        "pred = np.argmax(pred,axis=1)\n",
        "\n",
        "# Map the label\n",
        "labels = (train_generator.class_indices)\n",
        "labels = dict((v,k) for k,v in labels.items())\n",
        "pred = [labels[k] for k in pred]"
      ],
      "metadata": {
        "colab": {
          "base_uri": "https://localhost:8080/"
        },
        "id": "TyxcJStoHJkx",
        "outputId": "11bf30c4-1891-47d6-d200-4ee23457c5d8"
      },
      "execution_count": 15,
      "outputs": [
        {
          "output_type": "stream",
          "name": "stdout",
          "text": [
            "23/23 [==============================] - 9s 399ms/step\n"
          ]
        }
      ]
    },
    {
      "cell_type": "code",
      "source": [
        "# y_test = list(train_generator.Label)\n",
        "# print(classification_report(y_test, pred))"
      ],
      "metadata": {
        "colab": {
          "base_uri": "https://localhost:8080/",
          "height": 182
        },
        "id": "Eueot6vNHJhX",
        "outputId": "35c8b4d3-6d04-47a7-edb6-1e80b207f23a"
      },
      "execution_count": null,
      "outputs": [
        {
          "output_type": "error",
          "ename": "AttributeError",
          "evalue": "ignored",
          "traceback": [
            "\u001b[0;31m---------------------------------------------------------------------------\u001b[0m",
            "\u001b[0;31mAttributeError\u001b[0m                            Traceback (most recent call last)",
            "\u001b[0;32m<ipython-input-19-5fc4124d3229>\u001b[0m in \u001b[0;36m<module>\u001b[0;34m()\u001b[0m\n\u001b[0;32m----> 1\u001b[0;31m \u001b[0my_test\u001b[0m \u001b[0;34m=\u001b[0m \u001b[0mlist\u001b[0m\u001b[0;34m(\u001b[0m\u001b[0mtrain_generator\u001b[0m\u001b[0;34m.\u001b[0m\u001b[0mLabel\u001b[0m\u001b[0;34m)\u001b[0m\u001b[0;34m\u001b[0m\u001b[0;34m\u001b[0m\u001b[0m\n\u001b[0m\u001b[1;32m      2\u001b[0m \u001b[0mprint\u001b[0m\u001b[0;34m(\u001b[0m\u001b[0mclassification_report\u001b[0m\u001b[0;34m(\u001b[0m\u001b[0my_test\u001b[0m\u001b[0;34m,\u001b[0m \u001b[0mpred\u001b[0m\u001b[0;34m)\u001b[0m\u001b[0;34m)\u001b[0m\u001b[0;34m\u001b[0m\u001b[0;34m\u001b[0m\u001b[0m\n",
            "\u001b[0;31mAttributeError\u001b[0m: 'DirectoryIterator' object has no attribute 'Label'"
          ]
        }
      ]
    },
    {
      "cell_type": "markdown",
      "source": [
        "# ***2- Model Test***"
      ],
      "metadata": {
        "id": "YcOib2ngGmO3"
      }
    },
    {
      "cell_type": "markdown",
      "source": [
        "***2-2. VGG19 Model***"
      ],
      "metadata": {
        "id": "j1dAxiIoGs-x"
      }
    },
    {
      "cell_type": "code",
      "source": [
        "# load model vgg19\n",
        "import numpy as np\n",
        "from keras.models import load_model\n",
        "from keras.preprocessing import image\n",
        "model_vgg19 = load_model('/content/drive/MyDrive/Colab Notebooks/models_olive/model_cl2_vgg19.h5')"
      ],
      "metadata": {
        "id": "sA9A-xpQFOgQ"
      },
      "execution_count": 16,
      "outputs": []
    },
    {
      "cell_type": "code",
      "source": [
        "classes_vgg19 = list(train_generator.class_indices.keys())\n",
        "# Pre-Processing test data same as train data.\n",
        "def prepare(img_path):\n",
        "  img = image.load_img(img_path, target_size = (224, 224))\n",
        "  x = image.img_to_array(img)\n",
        "  x = x/255\n",
        "  return np.expand_dims(x, axis=0)\n",
        "\n",
        "img_url = '/content/drive/MyDrive/dataset_olive/test/Olive/IMG_20190806_165500.jpg'\n",
        "result_vgg19 = model_vgg19.predict([prepare(img_url)])\n",
        "img_pred_vgg19 = image.load_img(img_url)\n",
        "plt.imshow(img_pred_vgg19)\n",
        "\n",
        "classresult_vgg19 = np.argmax(result_vgg19, axis=1)\n",
        "print(classes_vgg19[classresult_vgg19[0]])"
      ],
      "metadata": {
        "colab": {
          "base_uri": "https://localhost:8080/",
          "height": 286
        },
        "id": "sOMRRNf5G14L",
        "outputId": "5bf6046d-d2c8-4859-d4ce-6e863d74306a"
      },
      "execution_count": 17,
      "outputs": [
        {
          "output_type": "stream",
          "name": "stdout",
          "text": [
            "olive_peacock_spot\n"
          ]
        },
        {
          "output_type": "display_data",
          "data": {
            "text/plain": [
              "<Figure size 432x288 with 1 Axes>"
            ],
            "image/png": "[encoded data removed]"
          },
          "metadata": {
            "needs_background": "light"
          }
        }
      ]
    },
    {
      "cell_type": "code",
      "source": [
        ""
      ],
      "metadata": {
        "id": "38DkQGWTG11L"
      },
      "execution_count": null,
      "outputs": []
    },
    {
      "cell_type": "code",
      "source": [
        ""
      ],
      "metadata": {
        "id": "CLc8jfYpG1xv"
      },
      "execution_count": null,
      "outputs": []
    }
  ]
}